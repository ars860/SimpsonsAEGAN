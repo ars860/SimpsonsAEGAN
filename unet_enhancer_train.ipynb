{
 "cells": [
  {
   "cell_type": "code",
   "execution_count": null,
   "metadata": {
    "collapsed": true,
    "pycharm": {
     "name": "#%%\n"
    }
   },
   "outputs": [],
   "source": [
    "import os\n",
    "import json\n",
    "import re\n",
    "import sys\n",
    "import time\n",
    "\n",
    "import torch\n",
    "from torch import nn\n",
    "from torch import optim\n",
    "import matplotlib.pyplot as plt\n",
    "import torchvision as tv\n",
    "from torchvision.datasets import ImageFolder\n",
    "from torch.utils.data import DataLoader\n",
    "from PIL import Image\n",
    "import numpy as np\n",
    "\n",
    "from aegan import AEGAN"
   ]
  },
  {
   "cell_type": "code",
   "execution_count": null,
   "outputs": [],
   "source": [
    "BATCH_SIZE = 16\n",
    "LATENT_DIM = 32\n",
    "EPOCHS = 20000"
   ],
   "metadata": {
    "collapsed": false,
    "pycharm": {
     "name": "#%%\n"
    }
   }
  },
  {
   "cell_type": "code",
   "execution_count": null,
   "outputs": [],
   "source": [
    "def save_images(GAN, vec, filename):\n",
    "    images = GAN.generate_samples(vec)\n",
    "    ims = tv.utils.make_grid(images[:36], normalize=True, nrow=6, )\n",
    "    ims = ims.numpy().transpose((1, 2, 0))\n",
    "    ims = np.array(ims * 255, dtype=np.uint8)\n",
    "    image = Image.fromarray(ims)\n",
    "    image.save(filename)\n",
    "\n",
    "\n",
    "def gen_samples(dataset):\n",
    "    dataloader = DataLoader(dataset,\n",
    "                            batch_size=36,\n",
    "                            shuffle=False,\n",
    "                            num_workers=1,\n",
    "                            drop_last=True\n",
    "                            )\n",
    "    X = iter(dataloader)\n",
    "    test_ims, _ = next(X)\n",
    "    # test_ims2, _ = next(X)\n",
    "    # test_ims = torch.cat((test_ims1, test_ims2), 0)\n",
    "    test_ims_show = tv.utils.make_grid(test_ims[:36], normalize=True, nrow=6, )\n",
    "    test_ims_show = test_ims_show.numpy().transpose((1, 2, 0))\n",
    "    test_ims_show = np.array(test_ims_show * 255, dtype=np.uint8)\n",
    "    image = Image.fromarray(test_ims_show)\n",
    "    return test_ims, image"
   ],
   "metadata": {
    "collapsed": false,
    "pycharm": {
     "name": "#%%\n"
    }
   }
  },
  {
   "cell_type": "code",
   "execution_count": null,
   "outputs": [],
   "source": [
    "root = \"small_data\"  # os.path.join(\"data\")\n",
    "device = \"cuda\"  # torch.device(\"cuda\" if torch.cuda.is_available() else \"cpu\")\n",
    "transform = tv.transforms.Compose([\n",
    "    # tv.transforms.RandomAffine(0, translate=(5/96, 5/96), fill=(255,255,255)),\n",
    "    # tv.transforms.ColorJitter(hue=0.5),\n",
    "    tv.transforms.RandomHorizontalFlip(p=0.5),\n",
    "    tv.transforms.ToTensor(),\n",
    "    tv.transforms.Normalize((0.5, 0.5, 0.5,), (0.5, 0.5, 0.5,))\n",
    "])\n",
    "dataset = ImageFolder(\n",
    "    root=root,\n",
    "    transform=transform\n",
    ")\n",
    "dataloader = DataLoader(dataset,\n",
    "                        batch_size=BATCH_SIZE,\n",
    "                        shuffle=True,\n",
    "                        num_workers=1,\n",
    "                        drop_last=True\n",
    "                        )"
   ],
   "metadata": {
    "collapsed": false,
    "pycharm": {
     "name": "#%%\n"
    }
   }
  }
 ],
 "metadata": {
  "kernelspec": {
   "display_name": "Python 3",
   "language": "python",
   "name": "python3"
  },
  "language_info": {
   "codemirror_mode": {
    "name": "ipython",
    "version": 2
   },
   "file_extension": ".py",
   "mimetype": "text/x-python",
   "name": "python",
   "nbconvert_exporter": "python",
   "pygments_lexer": "ipython2",
   "version": "2.7.6"
  }
 },
 "nbformat": 4,
 "nbformat_minor": 0
}